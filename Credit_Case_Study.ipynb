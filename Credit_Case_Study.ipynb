{
  "cells": [
    {
      "cell_type": "markdown",
      "metadata": {
        "id": "Fo_-y2fLNEJY"
      },
      "source": [
        "# 1. Import the required librarires"
      ]
    },
    {
      "cell_type": "code",
      "execution_count": null,
      "metadata": {
        "id": "_5Y6YRTPNEJa"
      },
      "outputs": [],
      "source": [
        "import numpy as np\n",
        "import pandas as pd\n",
        "import matplotlib.pyplot as plt\n",
        "import seaborn as sns\n",
        "import warnings\n",
        "warnings.filterwarnings(\"ignore\")\n",
        "%matplotlib inline"
      ]
    },
    {
      "cell_type": "code",
      "execution_count": null,
      "metadata": {
        "id": "u0vgTvKdNEJb"
      },
      "outputs": [],
      "source": [
        "from mpl_toolkits.mplot3d import Axes3D\n",
        "from plotly.offline import init_notebook_mode, iplot\n",
        "import plotly.figure_factory as ff\n",
        "import cufflinks\n",
        "cufflinks.go_offline()\n",
        "cufflinks.set_config_file(world_readable=True, theme='pearl')\n",
        "import plotly.graph_objs as go\n",
        "import plotly\n",
        "from plotly import tools\n",
        "import plotly.express as px\n",
        "from scipy.stats import boxcox\n",
        "init_notebook_mode(connected=True)"
      ]
    },
    {
      "cell_type": "code",
      "execution_count": null,
      "metadata": {
        "id": "tEldd4OINEJc"
      },
      "outputs": [],
      "source": [
        "#setting max column , rows, width visibility\n",
        "pd.set_option('display.max_rows', 500)\n",
        "pd.set_option('display.max_columns', 500)\n",
        "pd.set_option('display.width', 1000)"
      ]
    },
    {
      "cell_type": "markdown",
      "metadata": {
        "id": "TsKam-jrNEJc"
      },
      "source": [
        "# 2. Load the data and read it"
      ]
    },
    {
      "cell_type": "code",
      "execution_count": null,
      "metadata": {
        "id": "tVliEv6DNEJc"
      },
      "outputs": [],
      "source": [
        "dataF = pd.read_csv(\"application_data.csv\")\n",
        "dataF.head()"
      ]
    },
    {
      "cell_type": "markdown",
      "metadata": {
        "id": "i7SYgtA2NEJd"
      },
      "source": [
        "# 2.1 Inspecting the dataframe"
      ]
    },
    {
      "cell_type": "markdown",
      "metadata": {
        "id": "BCy7qdbANEJd"
      },
      "source": [
        "Inspecting the dataframe to analyze the shape, info and describe"
      ]
    },
    {
      "cell_type": "code",
      "execution_count": null,
      "metadata": {
        "id": "onQALqFUNEJd"
      },
      "outputs": [],
      "source": [
        "#Shape of the data\n",
        "dataF.shape"
      ]
    },
    {
      "cell_type": "markdown",
      "metadata": {
        "id": "m_zyEEZVNEJd"
      },
      "source": [
        "Here, we can see there are 3,07,511 rows and 122 columns"
      ]
    },
    {
      "cell_type": "code",
      "execution_count": null,
      "metadata": {
        "id": "CBL_ZuoHNEJd"
      },
      "outputs": [],
      "source": [
        "#info of the data\n",
        "dataF.info()"
      ]
    },
    {
      "cell_type": "code",
      "execution_count": null,
      "metadata": {
        "id": "n6zt1ZVcNEJd"
      },
      "outputs": [],
      "source": [
        "#numeric column summary to be check\n",
        "dataF.describe()"
      ]
    },
    {
      "cell_type": "markdown",
      "metadata": {
        "id": "6VVx4TOfNEJe"
      },
      "source": [
        "We can observe in total of 106 columns are numeric out of 122 columns"
      ]
    },
    {
      "cell_type": "markdown",
      "metadata": {
        "id": "uPMPGPSsNEJe"
      },
      "source": [
        "# 2.2 Find the Null Value percentage and infer how to handle Null Values"
      ]
    },
    {
      "cell_type": "code",
      "execution_count": null,
      "metadata": {
        "id": "R-GODoQtNEJe"
      },
      "outputs": [],
      "source": [
        "#Analysis of percentage of null values in each column\n",
        "percNull=dataF.isnull().sum()/len(dataF)*100\n",
        "percNull.sort_values(ascending=False).head(50)"
      ]
    },
    {
      "cell_type": "markdown",
      "metadata": {
        "id": "VmwxFzC2NEJe"
      },
      "source": [
        " - <b> Data Cleaning </b>"
      ]
    },
    {
      "cell_type": "code",
      "execution_count": null,
      "metadata": {
        "id": "dwAUda49NEJe"
      },
      "outputs": [],
      "source": [
        "#list of NULL Value columns where NA values are more than 40%\n",
        "null_col = dataF.isnull().sum()\n",
        "null_col = null_col[null_col>(0.40*len(dataF))]"
      ]
    },
    {
      "cell_type": "code",
      "execution_count": null,
      "metadata": {
        "id": "vtVXqThiNEJe"
      },
      "outputs": [],
      "source": [
        "#total number of NULL columns\n",
        "len(null_col)"
      ]
    },
    {
      "cell_type": "code",
      "execution_count": null,
      "metadata": {
        "id": "Wf-QNmiWNEJe"
      },
      "outputs": [],
      "source": [
        "#drop the null value columns\n",
        "null_col=list(null_col[null_col.values>=0.40].index)\n",
        "dataF.drop(labels=null_col,axis=1,inplace=True)"
      ]
    },
    {
      "cell_type": "markdown",
      "metadata": {
        "id": "tmBkOHL1NEJe"
      },
      "source": [
        " - 49 Null value columns has been droped"
      ]
    },
    {
      "cell_type": "code",
      "execution_count": null,
      "metadata": {
        "id": "6mXqzpFTNEJf"
      },
      "outputs": [],
      "source": [
        "#now check the new shape of the data\n",
        "dataF.shape"
      ]
    },
    {
      "cell_type": "code",
      "execution_count": null,
      "metadata": {
        "id": "5cHJx_5QNEJf"
      },
      "outputs": [],
      "source": [
        "#now checking less number of null values\n",
        "dataF.isnull().sum()/len(dataF)*100"
      ]
    },
    {
      "cell_type": "markdown",
      "metadata": {
        "id": "Abkde-duNEJf"
      },
      "source": [
        " - Here, we can see \"AMT_ANNUTIY\" is having very less number of null values or can say missing values."
      ]
    },
    {
      "cell_type": "code",
      "execution_count": null,
      "metadata": {
        "id": "YkcN2TS1NEJf"
      },
      "outputs": [],
      "source": [
        "#handeling the missing values with median.\n",
        "val_imp1 = dataF[\"AMT_ANNUITY\"].median()\n",
        "dataF.loc[dataF[\"AMT_ANNUITY\"].isnull(),\"AMT_ANNUITY\"]=val_imp1"
      ]
    },
    {
      "cell_type": "code",
      "execution_count": null,
      "metadata": {
        "id": "XdriAOs3NEJf"
      },
      "outputs": [],
      "source": [
        "#handling the missing values with mean\n",
        "val_imp2 = dataF[\"CNT_FAM_MEMBERS\"].mean()\n",
        "dataF.loc[dataF[\"CNT_FAM_MEMBERS\"].isnull(),\"CNT_FAM_MEMBERS\"]=val_imp2"
      ]
    },
    {
      "cell_type": "code",
      "execution_count": null,
      "metadata": {
        "id": "U3PjiHK5NEJf"
      },
      "outputs": [],
      "source": [
        "#handling the missing values with mean\n",
        "val_imp3 = dataF[\"DAYS_LAST_PHONE_CHANGE\"].median()\n",
        "dataF.loc[dataF[\"DAYS_LAST_PHONE_CHANGE\"].isnull(),\"DAYS_LAST_PHONE_CHANGE\"]=val_imp3"
      ]
    },
    {
      "cell_type": "code",
      "execution_count": null,
      "metadata": {
        "id": "R-X_ognANEJf"
      },
      "outputs": [],
      "source": [
        "#handling the missing values with mode\n",
        "dataF[\"OCCUPATION_TYPE\"].mode()"
      ]
    },
    {
      "cell_type": "code",
      "execution_count": null,
      "metadata": {
        "id": "B3YY4-FSNEJf"
      },
      "outputs": [],
      "source": [
        "##handling the missing values with mode\n",
        "dataF.loc[dataF[\"OCCUPATION_TYPE\"].isnull(),\"OCCUPATION_TYPE\"]=\"Laborers\""
      ]
    },
    {
      "cell_type": "code",
      "execution_count": null,
      "metadata": {
        "id": "rwqgK36FNEJf"
      },
      "outputs": [],
      "source": [
        "#handling the missing values with mode\n",
        "val_imp5 = dataF[\"AMT_GOODS_PRICE\"].median()\n",
        "dataF.loc[dataF[\"AMT_GOODS_PRICE\"].isnull(),\"AMT_GOODS_PRICE\"]=val_imp5"
      ]
    },
    {
      "cell_type": "code",
      "execution_count": null,
      "metadata": {
        "id": "PpOp3FWuNEJf"
      },
      "outputs": [],
      "source": [
        "#handling the missing values with mode\n",
        "dataF[\"NAME_TYPE_SUITE\"].mode()"
      ]
    },
    {
      "cell_type": "code",
      "execution_count": null,
      "metadata": {
        "id": "LCutVLEENEJg"
      },
      "outputs": [],
      "source": [
        "#imputing the mode value\n",
        "dataF.loc[dataF[\"NAME_TYPE_SUITE\"].isnull(),\"NAME_TYPE_SUITE\"]=\"Unaccompanied\""
      ]
    },
    {
      "cell_type": "code",
      "execution_count": null,
      "metadata": {
        "id": "3N_pIYeENEJg"
      },
      "outputs": [],
      "source": [
        "#handling the missing values with mode\n",
        "dataF[\"ORGANIZATION_TYPE\"].mode()"
      ]
    },
    {
      "cell_type": "code",
      "execution_count": null,
      "metadata": {
        "id": "WRrrQnP9NEJg"
      },
      "outputs": [],
      "source": [
        "#imputing the mode value\n",
        "dataF.loc[dataF[\"ORGANIZATION_TYPE\"].isnull(),\"ORGANIZATION_TYPE\"]=\"Business Entity Type 3\""
      ]
    },
    {
      "cell_type": "code",
      "execution_count": null,
      "metadata": {
        "id": "sYK6vHRpNEJg"
      },
      "outputs": [],
      "source": [
        "#handling the missing values with mode\n",
        "dataF[\"AMT_REQ_CREDIT_BUREAU_HOUR\"].mode()"
      ]
    },
    {
      "cell_type": "code",
      "execution_count": null,
      "metadata": {
        "id": "YhbkXa41NEJg"
      },
      "outputs": [],
      "source": [
        "#imputing the mode value\n",
        "dataF.loc[dataF[\"AMT_REQ_CREDIT_BUREAU_HOUR\"].isnull(),\"AMT_REQ_CREDIT_BUREAU_HOUR\"]=0.0"
      ]
    },
    {
      "cell_type": "code",
      "execution_count": null,
      "metadata": {
        "id": "LeCHUp6zNEJg"
      },
      "outputs": [],
      "source": [
        "#handling the missing values with mode\n",
        "dataF[\"AMT_REQ_CREDIT_BUREAU_DAY\"].mode()"
      ]
    },
    {
      "cell_type": "code",
      "execution_count": null,
      "metadata": {
        "id": "HSSv162jNEJg"
      },
      "outputs": [],
      "source": [
        "#imputing the mode value\n",
        "dataF.loc[dataF[\"AMT_REQ_CREDIT_BUREAU_DAY\"].isnull(),\"AMT_REQ_CREDIT_BUREAU_DAY\"]=0.0"
      ]
    },
    {
      "cell_type": "code",
      "execution_count": null,
      "metadata": {
        "id": "PJtlInSUNEJh"
      },
      "outputs": [],
      "source": [
        "#handling the missing values with mode\n",
        "dataF[\"AMT_REQ_CREDIT_BUREAU_WEEK\"].mode()"
      ]
    },
    {
      "cell_type": "code",
      "execution_count": null,
      "metadata": {
        "id": "yXg2PP7bNEJh"
      },
      "outputs": [],
      "source": [
        "#imputing the mode value\n",
        "dataF.loc[dataF[\"AMT_REQ_CREDIT_BUREAU_WEEK\"].isnull(),\"AMT_REQ_CREDIT_BUREAU_WEEK\"]=0.0"
      ]
    },
    {
      "cell_type": "code",
      "execution_count": null,
      "metadata": {
        "id": "-AtN_sDHNEJs"
      },
      "outputs": [],
      "source": [
        "#handling the missing values with mode\n",
        "dataF[\"AMT_REQ_CREDIT_BUREAU_MON\"].mode()"
      ]
    },
    {
      "cell_type": "code",
      "execution_count": null,
      "metadata": {
        "id": "QtyotA38NEJs"
      },
      "outputs": [],
      "source": [
        "#imputing the mode value\n",
        "dataF.loc[dataF[\"AMT_REQ_CREDIT_BUREAU_MON\"].isnull(),\"AMT_REQ_CREDIT_BUREAU_MON\"]=0.0"
      ]
    },
    {
      "cell_type": "code",
      "execution_count": null,
      "metadata": {
        "id": "ylpQGjq4NEJs"
      },
      "outputs": [],
      "source": [
        "#handling the missing values with mode\n",
        "dataF[\"AMT_REQ_CREDIT_BUREAU_QRT\"].mode()"
      ]
    },
    {
      "cell_type": "code",
      "execution_count": null,
      "metadata": {
        "id": "03_FQedQNEJt"
      },
      "outputs": [],
      "source": [
        "#imputing the mode value\n",
        "dataF.loc[dataF[\"AMT_REQ_CREDIT_BUREAU_QRT\"].isnull(),\"AMT_REQ_CREDIT_BUREAU_QRT\"]=0.0"
      ]
    },
    {
      "cell_type": "code",
      "execution_count": null,
      "metadata": {
        "id": "L1ink8tENEJt"
      },
      "outputs": [],
      "source": [
        "#handling the missing values with mode\n",
        "dataF[\"AMT_REQ_CREDIT_BUREAU_YEAR\"].mode()"
      ]
    },
    {
      "cell_type": "code",
      "execution_count": null,
      "metadata": {
        "id": "HAM-ECdSNEJt"
      },
      "outputs": [],
      "source": [
        "#imputing the mode value\n",
        "dataF.loc[dataF[\"AMT_REQ_CREDIT_BUREAU_YEAR\"].isnull(),\"AMT_REQ_CREDIT_BUREAU_YEAR\"]=0.0"
      ]
    },
    {
      "cell_type": "markdown",
      "metadata": {
        "id": "Ri2bTegENEJt"
      },
      "source": [
        " - After observing here we can see there are outliers too and which is very large and it will be not good to impute those values with mean. Hence, the best option comes here is meadian to cater the outliers."
      ]
    },
    {
      "cell_type": "code",
      "execution_count": null,
      "metadata": {
        "id": "LdeOD9fDNEJt"
      },
      "outputs": [],
      "source": [
        "#again looking for the NULL values\n",
        "dataF.isnull().sum()"
      ]
    },
    {
      "cell_type": "markdown",
      "metadata": {
        "id": "ssVWNEfqNEJt"
      },
      "source": [
        " - Rest values are not required to impute just because in no use of the analysis part."
      ]
    },
    {
      "cell_type": "code",
      "execution_count": null,
      "metadata": {
        "id": "c2ETk6LENEJt"
      },
      "outputs": [],
      "source": [
        "#find the \"XNA\" values in \"CODE_GENDER\" column and correct this value with best option\n",
        "dataF[dataF[\"CODE_GENDER\"]==\"XNA\"].shape"
      ]
    },
    {
      "cell_type": "markdown",
      "metadata": {
        "id": "H0vD8EALNEJt"
      },
      "source": [
        "Here, we can see 4 rows contains \"XNA\" values"
      ]
    },
    {
      "cell_type": "code",
      "execution_count": null,
      "metadata": {
        "id": "7R8RCT8HNEJu"
      },
      "outputs": [],
      "source": [
        "#correction of \"XNA\" values\n",
        "dataF[\"CODE_GENDER\"].value_counts()"
      ]
    },
    {
      "cell_type": "code",
      "execution_count": null,
      "metadata": {
        "id": "kkrxtO-bNEJu"
      },
      "outputs": [],
      "source": [
        "#now updating the column with \"F\" in the dataset\n",
        "dataF.loc[dataF[\"CODE_GENDER\"]==\"XNA\",\"CODE_GENDER\"]=\"F\"\n",
        "dataF[\"CODE_GENDER\"].value_counts()"
      ]
    },
    {
      "cell_type": "markdown",
      "metadata": {
        "id": "_VSXNPpWNEJu"
      },
      "source": [
        "So, here we have imputed the irregularities with best option"
      ]
    },
    {
      "cell_type": "code",
      "execution_count": null,
      "metadata": {
        "id": "g7I3TeW2NEJu"
      },
      "outputs": [],
      "source": [
        "#find the \"XNA\" values in \"CODE_GENDER\" column and correct this value with best option\n",
        "dataF[dataF[\"ORGANIZATION_TYPE\"]==\"XNA\"].shape"
      ]
    },
    {
      "cell_type": "code",
      "execution_count": null,
      "metadata": {
        "id": "Bpyp18AgNEJu"
      },
      "outputs": [],
      "source": [
        "#describe the \"ORGANIZATION_TYPE\" column\n",
        "dataF[\"ORGANIZATION_TYPE\"].describe()"
      ]
    },
    {
      "cell_type": "markdown",
      "metadata": {
        "id": "nf_NoASMNEJu"
      },
      "source": [
        "Here, we can see in total of 55374 rows are containing \"XNA\" values and we are imputing the \"XNA\" value with NaN"
      ]
    },
    {
      "cell_type": "code",
      "execution_count": null,
      "metadata": {
        "id": "r_nHfvDYNEJu"
      },
      "outputs": [],
      "source": [
        "#replacing the value \"XNA\" with NaN\n",
        "dataF = dataF.replace('XNA',np.NaN)"
      ]
    },
    {
      "cell_type": "markdown",
      "metadata": {
        "id": "SGt7yhRUNEJv"
      },
      "source": [
        "# 2.3 Now find the inappropriate data in datasets like negative values was entered accidently"
      ]
    },
    {
      "cell_type": "code",
      "execution_count": null,
      "metadata": {
        "id": "3woK3FbENEJv"
      },
      "outputs": [],
      "source": [
        "#columns starting with \"DAYS\"\n",
        "col_irr=[col for col in dataF if col.startswith(\"DAYS\")]\n",
        "col_irr"
      ]
    },
    {
      "cell_type": "code",
      "execution_count": null,
      "metadata": {
        "id": "fazgbt9VNEJv"
      },
      "outputs": [],
      "source": [
        "# Irregularities check in the columns which starts with \"DAYS\" as uniquely identified\n",
        "print(dataF['DAYS_BIRTH'].unique())\n",
        "print(dataF['DAYS_REGISTRATION'].unique())\n",
        "print(dataF['DAYS_LAST_PHONE_CHANGE'].unique())\n",
        "print(dataF['DAYS_EMPLOYED'].unique())\n",
        "print(dataF['DAYS_ID_PUBLISH'].unique())"
      ]
    },
    {
      "cell_type": "code",
      "execution_count": null,
      "metadata": {
        "id": "TtmYwWyyNEJv"
      },
      "outputs": [],
      "source": [
        "#correction of irregularities with using abs function\n",
        "dataF[col_irr]=abs(dataF[col_irr])"
      ]
    },
    {
      "cell_type": "code",
      "execution_count": null,
      "metadata": {
        "id": "QRtN-euNNEJv"
      },
      "outputs": [],
      "source": [
        "#now again check is irregularities are fixed\n",
        "print(dataF['DAYS_BIRTH'].unique())\n",
        "print(dataF['DAYS_REGISTRATION'].unique())\n",
        "print(dataF['DAYS_LAST_PHONE_CHANGE'].unique())\n",
        "print(dataF['DAYS_EMPLOYED'].unique())\n",
        "print(dataF['DAYS_ID_PUBLISH'].unique())"
      ]
    },
    {
      "cell_type": "markdown",
      "metadata": {
        "id": "QhZbS6JZNEJv"
      },
      "source": [
        "# 2.4 Binning of contineous variables"
      ]
    },
    {
      "cell_type": "code",
      "execution_count": null,
      "metadata": {
        "id": "xsxksJcKNEJv"
      },
      "outputs": [],
      "source": [
        "#doing binning 'AMT_INCOME_RANGE' based on quantiles\n",
        "dataF['AMT_INCOME_RANGE'] = pd.qcut(dataF.AMT_INCOME_TOTAL, q=[0, 0.2, 0.5, 0.8, 0.95, 1], labels=['VERY_LOW', 'LOW', \"MEDIUM\", 'HIGH', 'VERY_HIGH'])\n",
        "dataF['AMT_INCOME_RANGE'].head(15)"
      ]
    },
    {
      "cell_type": "code",
      "execution_count": null,
      "metadata": {
        "id": "ka0Mj00ENEJv"
      },
      "outputs": [],
      "source": [
        "#doing binning 'AMT_CREDIT_RANGE' by creating various ranges\n",
        "dataF['AMT_CREDIT_RANGE'] = pd.qcut(dataF.AMT_CREDIT, q=[0, 0.2, 0.5, 0.8, 0.95, 1], labels=['VERY_LOW', 'LOW', \"MEDIUM\", 'HIGH', 'VERY_HIGH'])\n",
        "dataF['AMT_CREDIT_RANGE'].head(15)"
      ]
    },
    {
      "cell_type": "code",
      "execution_count": null,
      "metadata": {
        "id": "VRynx7FpNEJw"
      },
      "outputs": [],
      "source": [
        "#now converting 'DAYS_BIRTH' to years\n",
        "dataF['DAYS_BIRTH']= (dataF['DAYS_BIRTH']/365).astype(int)\n",
        "dataF[\"DAYS_BIRTH\"].head()"
      ]
    },
    {
      "cell_type": "code",
      "execution_count": null,
      "metadata": {
        "id": "aiOuvdm7NEJw"
      },
      "outputs": [],
      "source": [
        "dataF[\"DAYS_BIRTH\"].unique()"
      ]
    },
    {
      "cell_type": "code",
      "execution_count": null,
      "metadata": {
        "id": "tLWG1MhaNEJw"
      },
      "outputs": [],
      "source": [
        "#now performing bining 'DAYS_BIRTH'\n",
        "dataF['DAYS_BIRTH_BINS']=pd.cut(dataF['DAYS_BIRTH'], bins=[19,25,35,60,100], labels=['Very_Young','Young', 'Middle_Age', 'Senior_Citizen'])\n",
        "dataF['DAYS_BIRTH_BINS'].value_counts()"
      ]
    },
    {
      "cell_type": "markdown",
      "metadata": {
        "id": "8uJky0WfNEJw"
      },
      "source": [
        " - <b>Here, we have performed data cleaning to have better analysis and gather good insights of the data</b>"
      ]
    },
    {
      "cell_type": "markdown",
      "metadata": {
        "id": "6sTdTtDiNEJw"
      },
      "source": [
        "# 3. Now Analysis on dataset after Data Cleaning"
      ]
    },
    {
      "cell_type": "markdown",
      "metadata": {
        "id": "Mu2OoeRaNEJw"
      },
      "source": [
        "###    3.1 Identifying the outliers"
      ]
    },
    {
      "cell_type": "code",
      "execution_count": null,
      "metadata": {
        "id": "CH0BamvMNEJw"
      },
      "outputs": [],
      "source": [
        "# boxplot for 'AMT_INCOME_TOTAL' column to check the outliers\n",
        "fig = px.box(dataF, y=\"AMT_INCOME_TOTAL\",title='AMT_INCOME_TOTAL distribution' )\n",
        "fig.show()"
      ]
    },
    {
      "cell_type": "markdown",
      "metadata": {
        "id": "D5yI70JrNEJx"
      },
      "source": [
        " - Using boxplot analysis we can plot that there is an outlier at 170M in the column \"AMT_INCOME_TOTAL\""
      ]
    },
    {
      "cell_type": "code",
      "execution_count": null,
      "metadata": {
        "id": "CtwDzpIoNEJx"
      },
      "outputs": [],
      "source": [
        "#boxplot for \"DAYS_BIRTH\" column to check the outliers\n",
        "fig = px.box(dataF, y=\"DAYS_BIRTH\",title='DAYS_BIRTH distribution' )\n",
        "fig.show()"
      ]
    },
    {
      "cell_type": "markdown",
      "metadata": {
        "id": "IfZcKqPYNEJx"
      },
      "source": [
        " - Here, we observe there is no outliers in the column \"DAYS_BIRTH\""
      ]
    },
    {
      "cell_type": "code",
      "execution_count": null,
      "metadata": {
        "id": "ESl0qKB1NEJx"
      },
      "outputs": [],
      "source": [
        "#boxplot for \"AMT_ANNUITY\" column to check the outliers\n",
        "fig = px.box(dataF, y=\"AMT_ANNUITY\",title='AMT_ANNUITY distribution' )\n",
        "fig.show()"
      ]
    },
    {
      "cell_type": "markdown",
      "metadata": {
        "id": "Z6VaxZJRNEJx"
      },
      "source": [
        " - Here, we observe that the value above 258k is an outlier in the column of \"AMT_ANNUUITY\""
      ]
    },
    {
      "cell_type": "code",
      "execution_count": null,
      "metadata": {
        "id": "v9amsoGGNEJx"
      },
      "outputs": [],
      "source": [
        "#boxplot for \"DAYS_REGISTRATION\" column to check the outliers\n",
        "fig = px.box(dataF, y=\"DAYS_REGISTRATION\", title=\"DAYS_REGISTRATION distribution\" )\n",
        "fig.show()"
      ]
    },
    {
      "cell_type": "markdown",
      "metadata": {
        "id": "rRxgc_-nNEJx"
      },
      "source": [
        " - Here, the column \"DAYS_REGISTRATION\" means how many days before the registration has been done."
      ]
    },
    {
      "cell_type": "code",
      "execution_count": null,
      "metadata": {
        "id": "bhqKTdWzNEJx"
      },
      "outputs": [],
      "source": [
        "#boxplot for \"DAYS_EMPLOYED\" column to check the outliers\n",
        "fig = px.box(dataF, y=\"DAYS_EMPLOYED\", title=\"DAYS_EMPLOYED distribution\" )\n",
        "fig.show()"
      ]
    },
    {
      "cell_type": "markdown",
      "metadata": {
        "id": "trzMu3tcNEJx"
      },
      "source": [
        " - Here, we observe the column \"DAYS_EMPLOYED\" contains outlier which is greater than 350k"
      ]
    },
    {
      "cell_type": "markdown",
      "metadata": {
        "id": "rTHfDE1vNEJy"
      },
      "source": [
        "# 3.2 Distribution check"
      ]
    },
    {
      "cell_type": "code",
      "execution_count": null,
      "metadata": {
        "id": "4aToYXgGNEJy"
      },
      "outputs": [],
      "source": [
        "# distribution of 'DAYS_EMPLOYED'\n",
        "sns.set(rc={'figure.figsize':(20,10)})\n",
        "sns.distplot(dataF['DAYS_EMPLOYED'], color=\"#4CB391\" )\n",
        "plt.title('DAYS_EMPLOYED Distribution', fontdict={'fontsize':18, \"color\":\"green\"} )\n",
        "plt.xlabel(\"DAYS_EMPLOYED\", fontdict={\"fontsize\":15,\"color\":\"Black\"})\n",
        "plt.ylabel(\"Density\", fontdict={\"fontsize\":15,\"color\":\"Black\"})\n",
        "plt.show()"
      ]
    },
    {
      "cell_type": "markdown",
      "metadata": {
        "id": "3DlUraI0NEJy"
      },
      "source": [
        "Here, the column \"DAYS_EMPLOYED\" tells that how many days before the application the person started the current employement."
      ]
    },
    {
      "cell_type": "code",
      "execution_count": null,
      "metadata": {
        "id": "30KDaMh-NEJy"
      },
      "outputs": [],
      "source": [
        "#distribution of 'OCCUPATION_TYPE'\n",
        "occ_dist = dataF[\"OCCUPATION_TYPE\"].value_counts()\n",
        "occ_dist.iplot(kind='bar', xTitle = 'Occupation', yTitle = \"Count\", title = 'Applicant\\'s Occupation who applied for loan', color = 'blue')"
      ]
    },
    {
      "cell_type": "markdown",
      "metadata": {
        "id": "tJVb_mFcNEJy"
      },
      "source": [
        " - Here, we observe that in column \"OCCUPATION_TYPE\" the Labourers, Sales staff, Core staff, Managers, Drivers are the highest candidates who are applying for the loan."
      ]
    },
    {
      "cell_type": "code",
      "execution_count": null,
      "metadata": {
        "id": "Rj7B_2_4NEJy"
      },
      "outputs": [],
      "source": [
        "#distribution of 'ORGANIZATION_TYPE'\n",
        "org_dist = dataF[\"ORGANIZATION_TYPE\"].value_counts()\n",
        "org_dist.iplot(kind='bar', yTitle = \"Count\", xTitle = 'Organization Name', title = 'Types of Organizations who applied for loan ', color = 'blue')"
      ]
    },
    {
      "cell_type": "markdown",
      "metadata": {
        "id": "YaaZX-yLNEJy"
      },
      "source": [
        " - Here, we observe that in the \"ORGANIZATION_TYPE\" the majority of loan applications comes from Business Entity Type 3"
      ]
    },
    {
      "cell_type": "markdown",
      "metadata": {
        "id": "ClPJY52ONEJy"
      },
      "source": [
        "### 3.3 Imbalance check to have idea of trend"
      ]
    },
    {
      "cell_type": "code",
      "execution_count": null,
      "metadata": {
        "id": "aFaM-A-KNEJy"
      },
      "outputs": [],
      "source": [
        "tar_imb = dataF[\"TARGET\"].value_counts()\n",
        "df = pd.DataFrame({'labels': tar_imb.index,'values': tar_imb.values})\n",
        "df.iplot(kind='pie',labels='labels',values='values', title='Imbalance Distribution of TARGET column', hole = 0.5)"
      ]
    },
    {
      "cell_type": "markdown",
      "metadata": {
        "id": "yNey_pJhNEJz"
      },
      "source": [
        " - So, after analyzing this dataset we observe that there is huge imbalance in TARGET column which clearly states one side story is high as compare to other side with 91.9% of data"
      ]
    },
    {
      "cell_type": "markdown",
      "metadata": {
        "id": "96-sKJbeNEJz"
      },
      "source": [
        "### 3.4 Univariate analysis on Categorical Variables"
      ]
    },
    {
      "cell_type": "markdown",
      "metadata": {
        "id": "elO5mRjQNEJz"
      },
      "source": [
        "##### 3.4.1 Dividing the dataset into 2 different datasets based upon \"TARGET\" value"
      ]
    },
    {
      "cell_type": "code",
      "execution_count": null,
      "metadata": {
        "id": "P7utZCQJNEJz"
      },
      "outputs": [],
      "source": [
        "#converting the dataset\n",
        "dataF_tar0 = dataF.loc[dataF.TARGET == 0]\n",
        "dataF_tar1 = dataF.loc[dataF.TARGET == 1]"
      ]
    },
    {
      "cell_type": "code",
      "execution_count": null,
      "metadata": {
        "id": "aIICaBMFNEJz"
      },
      "outputs": [],
      "source": [
        "#checking the 2 different dataset, first \"dataF_tar0\"\n",
        "dataF_tar0.head()"
      ]
    },
    {
      "cell_type": "code",
      "execution_count": null,
      "metadata": {
        "id": "0dFq-p1ONEJz"
      },
      "outputs": [],
      "source": [
        "#checking the 2 different dataset, second \"dataF_tar1\"\n",
        "dataF_tar1.head()"
      ]
    },
    {
      "cell_type": "markdown",
      "metadata": {
        "id": "lasmlpW8NEJz"
      },
      "source": [
        "#### 3.4.2 Checking the Gender Distribution on Payment and Non-Payment application"
      ]
    },
    {
      "cell_type": "code",
      "execution_count": null,
      "metadata": {
        "id": "TAwRbzmhNEJz"
      },
      "outputs": [],
      "source": [
        "#Loan Non-Payment Gender Distribution\n",
        "g0 = dataF_tar0[\"CODE_GENDER\"].value_counts()\n",
        "df = pd.DataFrame({'labels': g0.index,'values': g0.values})\n",
        "df.iplot(kind='pie',labels='labels',values='values', title='Non-Payment difficulties in Gender Distribution', hole = 0.5)"
      ]
    },
    {
      "cell_type": "markdown",
      "metadata": {
        "id": "CjFAnE6gNEJz"
      },
      "source": [
        " - Here, we observe that Female candidate contains higher than male in Non-Payment difficulties."
      ]
    },
    {
      "cell_type": "code",
      "execution_count": null,
      "metadata": {
        "id": "cZA1323KNEJz"
      },
      "outputs": [],
      "source": [
        "#Loan Payment Gender Distribution\n",
        "g1 = dataF_tar1[\"CODE_GENDER\"].value_counts()\n",
        "df = pd.DataFrame({'labels': g1.index,'values': g1.values})\n",
        "df.iplot(kind='pie',labels='labels',values='values', title='Payment difficulties in Gender Distribution', hole = 0.5)"
      ]
    },
    {
      "cell_type": "markdown",
      "metadata": {
        "id": "m2iME2nTNEJ0"
      },
      "source": [
        " - Here, we observe that again Female candidate contains higher than male in Payment difficulties."
      ]
    },
    {
      "cell_type": "markdown",
      "metadata": {
        "id": "oJqZg6SgNEJ0"
      },
      "source": [
        "#### 3.4.3 Family status analysis on Non-Payment and Payment difficulties"
      ]
    },
    {
      "cell_type": "code",
      "execution_count": null,
      "metadata": {
        "id": "giDodtyQNEJ0"
      },
      "outputs": [],
      "source": [
        "# Family Status of Loan- Non Payment Difficulties\n",
        "f0 = dataF_tar0[\"NAME_FAMILY_STATUS\"].value_counts()\n",
        "df = pd.DataFrame({'labels': f0.index,'values': f0.values})\n",
        "df.iplot(kind='pie',labels='labels',values='values', title='Family Status of Loan Non-Payment Difficulties', hole = 0.5)"
      ]
    },
    {
      "cell_type": "markdown",
      "metadata": {
        "id": "Ta7P-CLQNEJ0"
      },
      "source": [
        " - Here, we observed that in non-payment difficulties there are married candidates which is higher than other which is \"Single, Civil Marriage, Seperated, Widow, Unknown\"."
      ]
    },
    {
      "cell_type": "code",
      "execution_count": null,
      "metadata": {
        "id": "fe8TciVYNEJ0"
      },
      "outputs": [],
      "source": [
        "# Family Status of Loan Payment Difficulties\n",
        "f1 = dataF_tar1[\"NAME_FAMILY_STATUS\"].value_counts()\n",
        "df = pd.DataFrame({'labels': f1.index,'values': f1.values})\n",
        "df.iplot(kind='pie',labels='labels',values='values', title='Family Status of Loan Payment Difficulties', hole = 0.5)"
      ]
    },
    {
      "cell_type": "markdown",
      "metadata": {
        "id": "mV4EvvaaNEJ0"
      },
      "source": [
        " - Here, again we observed that in loan payment difficulties there are married candidates only which is higher than other which is \"Single, Civil Marriage, Seperated, Widow, Unknown\"."
      ]
    },
    {
      "cell_type": "markdown",
      "metadata": {
        "id": "s-m768YkNEJ0"
      },
      "source": [
        "#### 3.4.4 Income source analysis on Loan payment and non-payment difficulties"
      ]
    },
    {
      "cell_type": "code",
      "execution_count": null,
      "metadata": {
        "id": "dZhFZW1zNEJ0"
      },
      "outputs": [],
      "source": [
        "# Income sources of Loan- Non Payment Difficulties\n",
        "i0 = dataF_tar0[\"NAME_INCOME_TYPE\"].value_counts()\n",
        "df = pd.DataFrame({'labels': i0.index,'values': i0.values})\n",
        "df.iplot(kind='pie',labels='labels',values='values', title='Income sources of Loan- Non Payment Difficulties', hole = 0.5)"
      ]
    },
    {
      "cell_type": "markdown",
      "metadata": {
        "id": "mxawZOovNEJ0"
      },
      "source": [
        " -  Here, we observed that Working professionals are slighlty above 50% who are facing difficulties in non-payment"
      ]
    },
    {
      "cell_type": "code",
      "execution_count": null,
      "metadata": {
        "id": "BDmbibCGNEJ1"
      },
      "outputs": [],
      "source": [
        "# Income sources of Loan Payment Difficulties\n",
        "i1 = dataF_tar1[\"NAME_INCOME_TYPE\"].value_counts()\n",
        "df = pd.DataFrame({'labels': i1.index,'values': i1.values})\n",
        "df.iplot(kind='pie',labels='labels',values='values', title='Income sources of Loan Payment Difficulties', hole = 0.5)"
      ]
    },
    {
      "cell_type": "markdown",
      "metadata": {
        "id": "HYPa9OzoNEJ1"
      },
      "source": [
        " - Now, here very interesting picture comes where working professinal are much higher among others who are facing difficulties in loan payment."
      ]
    },
    {
      "cell_type": "markdown",
      "metadata": {
        "id": "CEba-nmhNEJ1"
      },
      "source": [
        "#### 3.4.5 Housing analysis on Loan payment and non-payment difficulties"
      ]
    },
    {
      "cell_type": "code",
      "execution_count": null,
      "metadata": {
        "id": "kF9Ut-g5NEJ1"
      },
      "outputs": [],
      "source": [
        "# Type of House of Loan- Non Payment Difficulties\n",
        "h0 = dataF_tar0[\"NAME_HOUSING_TYPE\"].value_counts()\n",
        "df = pd.DataFrame({'labels': h0.index,'values': h0.values})\n",
        "df.iplot(kind='pie',labels='labels',values='values', title='Type of House of Loan-Non Payment Difficulties', hole = 0.5)"
      ]
    },
    {
      "cell_type": "markdown",
      "metadata": {
        "id": "HlxfVIl3NEJ1"
      },
      "source": [
        " - Here, we observed that \"House/apartment\" category is much higher than other in non-payment loan difficulties"
      ]
    },
    {
      "cell_type": "code",
      "execution_count": null,
      "metadata": {
        "id": "AnlniQGoNEJ1"
      },
      "outputs": [],
      "source": [
        "# Type of House of Payment Difficulties\n",
        "h1 = dataF_tar1[\"NAME_HOUSING_TYPE\"].value_counts()\n",
        "df = pd.DataFrame({'labels': h1.index,'values': h1.values})\n",
        "df.iplot(kind='pie',labels='labels',values='values', title='Type of House of Loan Payment Difficulties', hole = 0.5)"
      ]
    },
    {
      "cell_type": "markdown",
      "metadata": {
        "id": "xr4Q-sVgNEJ1"
      },
      "source": [
        " - Here, again \"House/apartment\" category is much higher than others in Loan payment difficulties analysis"
      ]
    },
    {
      "cell_type": "markdown",
      "metadata": {
        "id": "uNgzdWy8NEJ1"
      },
      "source": [
        "#### 3.4.6 Education analysis on Loan payment and non-payment difficulties"
      ]
    },
    {
      "cell_type": "code",
      "execution_count": null,
      "metadata": {
        "id": "5Hd1VvFUNEJ1"
      },
      "outputs": [],
      "source": [
        "# Education of Loan- Non Payment Difficulties\n",
        "e0 = dataF_tar0[\"NAME_EDUCATION_TYPE\"].value_counts()\n",
        "df = pd.DataFrame({'labels': e0.index,'values': e0.values})\n",
        "df.iplot(kind='pie',labels='labels',values='values', title='Education of Loan- Non Payment Difficulties', hole = 0.5)"
      ]
    },
    {
      "cell_type": "markdown",
      "metadata": {
        "id": "UucHMrXENEJ1"
      },
      "source": [
        " - Here, we observed that \"Secondary/secondary special\" category is much higher than other in non-payment loan difficulties"
      ]
    },
    {
      "cell_type": "code",
      "execution_count": null,
      "metadata": {
        "id": "PW2OTMNlNEJ2"
      },
      "outputs": [],
      "source": [
        "# Education of Loan Payment Difficulties\n",
        "e1 = dataF_tar1[\"NAME_EDUCATION_TYPE\"].value_counts()\n",
        "df = pd.DataFrame({'labels': e1.index,'values': e1.values})\n",
        "df.iplot(kind='pie',labels='labels',values='values', title='Education of Loan Payment Difficulties', hole = 0.5)"
      ]
    },
    {
      "cell_type": "markdown",
      "metadata": {
        "id": "-Lo4BF1qNEJ2"
      },
      "source": [
        " - Here, again we observed that \"Secondary/secondary special\" category is much higher than other in payment loan difficulties"
      ]
    },
    {
      "cell_type": "markdown",
      "metadata": {
        "id": "QWgY9T1uNEJ2"
      },
      "source": [
        "#### 3.4.7 Age analysis on Loan payment and non-payment difficulties"
      ]
    },
    {
      "cell_type": "code",
      "execution_count": null,
      "metadata": {
        "id": "u2mrai1DNEJ2"
      },
      "outputs": [],
      "source": [
        "# Age of Loan-Non Payment Difficulties\n",
        "a0 = dataF_tar0[\"DAYS_BIRTH_BINS\"].value_counts()\n",
        "df = pd.DataFrame({'labels': a0.index,'values': a0.values})\n",
        "df.iplot(kind='bar',x='labels',y='values', title='Age of Loan-Non Payment Difficulties', hole = 0.5,xTitle = \"Category\", yTitle = \"Values\")"
      ]
    },
    {
      "cell_type": "markdown",
      "metadata": {
        "id": "Jj9sZbVeNEJ2"
      },
      "source": [
        " - Here, we can see \"Middle_Age\" group category are higher than others in loan non-payment difficulties"
      ]
    },
    {
      "cell_type": "code",
      "execution_count": null,
      "metadata": {
        "id": "iRxHip-uNEJ2"
      },
      "outputs": [],
      "source": [
        "# Age of Loan Payment Difficulties\n",
        "a1 = dataF_tar1[\"DAYS_BIRTH_BINS\"].value_counts()\n",
        "df = pd.DataFrame({'labels': a1.index,'values': a1.values})\n",
        "df.iplot(kind='bar',x='labels',y='values', title='Age of Loan-Non Payment Difficulties', hole = 0.5,xTitle = \"Category\", yTitle = \"Values\")"
      ]
    },
    {
      "cell_type": "markdown",
      "metadata": {
        "id": "5jX0LW-KNEJ2"
      },
      "source": [
        " - Here, again we can see \"Middle_Age\" group category are higher than others in loan payment difficulties"
      ]
    },
    {
      "cell_type": "markdown",
      "metadata": {
        "id": "9FQMBvMmNEJ2"
      },
      "source": [
        "#### 3.4.8 Type of loans analysis on Loan payment and non-payment difficulties"
      ]
    },
    {
      "cell_type": "code",
      "execution_count": null,
      "metadata": {
        "id": "FTIWXnGlNEJ2"
      },
      "outputs": [],
      "source": [
        "# Types of Loans taken by Loan-Non Payment Difficulties\n",
        "t0 = dataF_tar0[\"NAME_CONTRACT_TYPE\"].value_counts()\n",
        "df = pd.DataFrame({'labels': t0.index,'values': t0.values})\n",
        "df.iplot(kind='pie',labels='labels',values='values', title='Types of Loans taken by Loan-Non Payment Difficulties', hole = 0.5)"
      ]
    },
    {
      "cell_type": "markdown",
      "metadata": {
        "id": "e8TawKNyNEJ3"
      },
      "source": [
        " - Here, we can see revolving loans are higher in rate in comparision to cash loans in non-paymnet difficulties"
      ]
    },
    {
      "cell_type": "code",
      "execution_count": null,
      "metadata": {
        "id": "xbGp74jwNEJ3"
      },
      "outputs": [],
      "source": [
        "# Types of Loans taken by Loan Payment Difficulties\n",
        "t1 = dataF_tar1[\"NAME_CONTRACT_TYPE\"].value_counts()\n",
        "df = pd.DataFrame({'labels': t1.index,'values': t1.values})\n",
        "df.iplot(kind='pie',labels='labels',values='values', title='Types of Loans taken by Loan Payment Difficulties', hole = 0.5)"
      ]
    },
    {
      "cell_type": "markdown",
      "metadata": {
        "id": "qeGAM5c8NEJ3"
      },
      "source": [
        " - Here, again we can see revolving loans are higher in rate in comparision to cash loans in paymnet difficulties"
      ]
    },
    {
      "cell_type": "markdown",
      "metadata": {
        "id": "jHvSI1YgNEJ3"
      },
      "source": [
        "#### 3.4.9 Organization type analysis on Loan payment and non-payment difficulties"
      ]
    },
    {
      "cell_type": "code",
      "execution_count": null,
      "metadata": {
        "id": "uKwpyJ8TNEJ3"
      },
      "outputs": [],
      "source": [
        "# Types of Organizations who applied for loan - Non-Payment Difficulties\n",
        "o0 = dataF_tar0[\"ORGANIZATION_TYPE\"].value_counts()\n",
        "df = pd.DataFrame({'labels': o0.index,'values': o0.values})\n",
        "df.iplot(kind='bar',x='labels',y='values',xTitle=\"Category\",yTitle=\"Values\", title='Types of Organizations who applied for loan - Non-Payment Difficulties', hole = 0.5)"
      ]
    },
    {
      "cell_type": "markdown",
      "metadata": {
        "id": "umiK3kn-NEJ3"
      },
      "source": [
        " - Here, we observed that \"Business Entity Type 3\" organization has higher rate among others in loan non-payment difficulties"
      ]
    },
    {
      "cell_type": "code",
      "execution_count": null,
      "metadata": {
        "id": "xsEGR-vrNEJ3"
      },
      "outputs": [],
      "source": [
        "# Types of Organizations who applied for loan - Payment Difficulties\n",
        "o1 = dataF_tar1[\"ORGANIZATION_TYPE\"].value_counts()\n",
        "df = pd.DataFrame({'labels': o1.index,'values': o1.values})\n",
        "df.iplot(kind='bar',x='labels',y='values',xTitle=\"Category\",yTitle=\"Values\", title='Types of Organizations who applied for loan - Payment Difficulties', hole = 0.5)"
      ]
    },
    {
      "cell_type": "markdown",
      "metadata": {
        "id": "BmF4orj6NEJ3"
      },
      "source": [
        " - Here, again we observed that \"Business Entity Type 3\" organization has higher rate among others in loan payment difficulties"
      ]
    },
    {
      "cell_type": "markdown",
      "metadata": {
        "id": "p0kT3aAANEJ3"
      },
      "source": [
        "### 3.6 Univariate analysis based on 'Target' variable (Numeric)"
      ]
    },
    {
      "cell_type": "code",
      "execution_count": null,
      "metadata": {
        "id": "iFqR-hBoNEJ3"
      },
      "outputs": [],
      "source": [
        "# Univariate plot function\n",
        "def unipl(df, colm, hue=None ):\n",
        "    sns.set(style =\"whitegrid\")\n",
        "    fig, ax = plt.subplots(nrows =1, ncols =2, figsize=(21,9))\n",
        "    ax[0].set_title(\"Distribution Plot\")\n",
        "    sns.distplot(df[~df[colm].isna()][colm],ax = ax[0],color = \"g\")\n",
        "    plt.yscale('log')\n",
        "    ax[1].set_title(\"Box Plot\")\n",
        "    sns.boxplot(data = df, x=colm,ax=ax[1], orient = \"v\", color = \"m\")\n",
        "    plt.yscale(\"log\")\n",
        "    plt.show()"
      ]
    },
    {
      "cell_type": "markdown",
      "metadata": {
        "id": "5sUouyzHNEJ4"
      },
      "source": [
        "#### 3.6.1 Credit Amount"
      ]
    },
    {
      "cell_type": "code",
      "execution_count": null,
      "metadata": {
        "id": "dWo4HTlANEJ4"
      },
      "outputs": [],
      "source": [
        "#Analyzing \"AMT_CREDIT\" for Loan Non-Payment Difficulties using distribution and box plot\n",
        "unipl(df=dataF_tar0, colm = \"AMT_CREDIT\")"
      ]
    },
    {
      "cell_type": "code",
      "execution_count": null,
      "metadata": {
        "id": "yT4xx7arNEJ4"
      },
      "outputs": [],
      "source": [
        "#Analyzing \"AMT_CREDIT\" for Loan Payment Difficulties using distribution and box plot\n",
        "unipl(df=dataF_tar1, colm = \"AMT_CREDIT\")"
      ]
    },
    {
      "cell_type": "markdown",
      "metadata": {
        "id": "EeYtwLVoNEJ5"
      },
      "source": [
        "  - We can infer that most of the annuity amount are from first quartile.\n",
        " The distribution curve doen't appear as normal or bell curve."
      ]
    },
    {
      "cell_type": "markdown",
      "metadata": {
        "id": "oaheIyJNNEJ5"
      },
      "source": [
        "#### 3.6.2 Amount Goods Price"
      ]
    },
    {
      "cell_type": "code",
      "execution_count": null,
      "metadata": {
        "id": "_esR8BBnNEJ5"
      },
      "outputs": [],
      "source": [
        "#plots for AMT_GOODS_PRICE for Loan Non-Payment Difficulties using distribution and box plot\n",
        "unipl(df=dataF_tar0, colm =\"AMT_GOODS_PRICE\")"
      ]
    },
    {
      "cell_type": "code",
      "execution_count": null,
      "metadata": {
        "id": "nTeg6_6jNEJ5"
      },
      "outputs": [],
      "source": [
        "#plots for AMT_GOODS_PRICE for Loan Payment Difficulties using distribution and box plot\n",
        "unipl(df=dataF_tar1, colm =\"AMT_GOODS_PRICE\")"
      ]
    },
    {
      "cell_type": "markdown",
      "metadata": {
        "id": "j6EBvqn3NEJ5"
      },
      "source": [
        " - There are some outliers and 1st quartile is bigger than 3rd quartile, which means more are from 1st quartile."
      ]
    },
    {
      "cell_type": "markdown",
      "metadata": {
        "id": "aAPDGxvbNEJ5"
      },
      "source": [
        "#### 3.6.3 Annuity amount"
      ]
    },
    {
      "cell_type": "code",
      "execution_count": null,
      "metadata": {
        "id": "pZRtdMzaNEJ5"
      },
      "outputs": [],
      "source": [
        "#plots for AMT_GOODS_PRICE for Loan Non-Payment Difficulties using distribution and box plot\n",
        "unipl(df=dataF_tar0, colm =\"AMT_ANNUITY\")"
      ]
    },
    {
      "cell_type": "code",
      "execution_count": null,
      "metadata": {
        "id": "aakU6zZ4NEJ6"
      },
      "outputs": [],
      "source": [
        "#plots for AMT_GOODS_PRICE for Loan Payment Difficulties using distribution and box plot\n",
        "unipl(df=dataF_tar1, colm =\"AMT_ANNUITY\")"
      ]
    },
    {
      "cell_type": "markdown",
      "metadata": {
        "id": "7XE5Bl9KNEJ6"
      },
      "source": [
        " - We can infer that most of the annuity amount are from first quartile.\n",
        " The distribution curve doen't appear as normal or bell curve."
      ]
    },
    {
      "cell_type": "markdown",
      "metadata": {
        "id": "EWHSDcAQNEJ6"
      },
      "source": [
        "### 3.7 Bivariate Analysis"
      ]
    },
    {
      "cell_type": "markdown",
      "metadata": {
        "id": "srMsZN9xNEJ6"
      },
      "source": [
        "#### 3.7.1 Bivariate analysis for categorical and numerical variables"
      ]
    },
    {
      "cell_type": "code",
      "execution_count": null,
      "metadata": {
        "id": "rlzCXGqCNEJ6"
      },
      "outputs": [],
      "source": [
        "#\"NAME_EDUCATION_TYPE\" vs \"AMT_CREDIT\" for loan Non Payment difficulties\n",
        "fig = px.box(dataF_tar0, x =\"NAME_EDUCATION_TYPE\", y=\"AMT_CREDIT\", color = \"NAME_FAMILY_STATUS\", title=\"Amount Vs Education for Loan Non Payment difficulties\" )\n",
        "fig.show()"
      ]
    },
    {
      "cell_type": "code",
      "execution_count": null,
      "metadata": {
        "id": "-5Jfta8XNEJ7"
      },
      "outputs": [],
      "source": [
        "#\"NAME_EDUCATION_TYPE\" vs \"AMT_CREDIT\" for loan Payment difficulties\n",
        "fig = px.box(dataF_tar1, x =\"NAME_EDUCATION_TYPE\", y=\"AMT_CREDIT\", color = \"NAME_FAMILY_STATUS\", title=\"Amount Vs Education for Loan Payment difficulties\" )\n",
        "fig.show()"
      ]
    },
    {
      "cell_type": "markdown",
      "metadata": {
        "id": "KxJ-lylMNEJ7"
      },
      "source": [
        "- Both the plots appear to be similiar.\n",
        "- Family status of 'civil marriage', 'marriage' and 'seperated' of      Academic degree education have higher number of credits.\n",
        "- In Education type \"Higher Education\" and \"Secondary\" have most of the outliers."
      ]
    },
    {
      "cell_type": "code",
      "execution_count": null,
      "metadata": {
        "id": "6mmGVeemNEJ7"
      },
      "outputs": [],
      "source": [
        "# \"AMT_INCOME_RANGE\" vs \"AMT_CREDIT\" for loan non payment difficulties\n",
        "fig = px.box(dataF_tar0, x = \"AMT_INCOME_RANGE\", y = \"AMT_CREDIT\", color = \"NAME_FAMILY_STATUS\", title =\" Income range VS Credit Amount for loan non Payment Difficulties\"  )\n",
        "fig.show()"
      ]
    },
    {
      "cell_type": "code",
      "execution_count": null,
      "metadata": {
        "id": "ZV5WaNawNEJ7"
      },
      "outputs": [],
      "source": [
        "# \"AMT_INCOME_RANGE\" vs \"AMT_CREDIT\" for loan payment difficulties\n",
        "fig = px.box(dataF_tar1, x = \"AMT_INCOME_RANGE\", y = \"AMT_CREDIT\", color = \"NAME_FAMILY_STATUS\", title =\" Income range VS Credit Amount for loan non Payment Difficulties\"  )\n",
        "fig.show()"
      ]
    },
    {
      "cell_type": "markdown",
      "metadata": {
        "id": "ZlnHh8U_NEJ7"
      },
      "source": [
        "- Both the plots appear to be similiar.\n",
        "- Family status of 'single', 'marriage' and 'seperated' have higher number credits"
      ]
    },
    {
      "cell_type": "markdown",
      "metadata": {
        "id": "4El3PqKwNEJ7"
      },
      "source": [
        "#### 3.7.3 Bivariate Analysis Numerical vs Numerical"
      ]
    },
    {
      "cell_type": "code",
      "execution_count": null,
      "metadata": {
        "id": "-MKlxhEgNEJ7"
      },
      "outputs": [],
      "source": [
        "# Target0 Pair plot for loan non payment difficulties\n",
        "pairp = dataF_tar0[['AMT_CREDIT', 'AMT_ANNUITY', 'AMT_INCOME_TOTAL', 'AMT_GOODS_PRICE', 'DAYS_BIRTH']].fillna(0)\n",
        "sns.pairplot(pairp)\n",
        "plt.show()"
      ]
    },
    {
      "cell_type": "code",
      "execution_count": null,
      "metadata": {
        "id": "BfEnQU0qNEJ7"
      },
      "outputs": [],
      "source": [
        "# Target1 Pair plot for loan non payment difficulties\n",
        "pairp = dataF_tar1[['AMT_CREDIT', 'AMT_ANNUITY', 'AMT_INCOME_TOTAL', 'AMT_GOODS_PRICE', 'DAYS_BIRTH']].fillna(0)\n",
        "sns.pairplot(pairp)\n",
        "plt.show()"
      ]
    },
    {
      "cell_type": "code",
      "execution_count": null,
      "metadata": {
        "id": "XBfA0YzPNEJ7"
      },
      "outputs": [],
      "source": [
        "# Heat Map - Loan non payment difficulties\n",
        "dataF_tar0[['AMT_GOODS_PRICE','AMT_INCOME_TOTAL','AMT_ANNUITY','DAYS_EMPLOYED','DAYS_BIRTH',\n",
        "         'DAYS_REGISTRATION', 'DAYS_ID_PUBLISH',\n",
        "         'AMT_CREDIT']].corr(method = 'pearson').iplot(kind = \"heatmap\", colorscale = \"Blues\", title = \"Correlation Heat map Loan Non Payment Difficulties\")"
      ]
    },
    {
      "cell_type": "code",
      "execution_count": null,
      "metadata": {
        "id": "Afrhih02NEJ8"
      },
      "outputs": [],
      "source": [
        "# Heat Map - Loan payment difficulties\n",
        "dataF_tar1[['AMT_GOODS_PRICE','AMT_INCOME_TOTAL','AMT_ANNUITY','DAYS_EMPLOYED','DAYS_BIRTH',\n",
        "         'DAYS_REGISTRATION', 'DAYS_ID_PUBLISH',\n",
        "         'AMT_CREDIT']].corr(method = 'pearson').iplot(kind = \"heatmap\", colorscale = \"Blues\", title = \"Correlation Heat map Loan Payment Difficulties\")"
      ]
    },
    {
      "cell_type": "markdown",
      "metadata": {
        "id": "5FJvpNtLNEJ8"
      },
      "source": [
        "- Credit amount and goods price have higher correlation\n",
        "- In credit amount vs income have some deviance in Loan payment and non payment difficulties"
      ]
    },
    {
      "cell_type": "markdown",
      "metadata": {
        "id": "bF04MZrLNEJ8"
      },
      "source": [
        "# Top 10 Correlation with payment difficulties for client"
      ]
    },
    {
      "cell_type": "code",
      "execution_count": null,
      "metadata": {
        "id": "kEM3MHuRNEJ8"
      },
      "outputs": [],
      "source": [
        "corr = dataF_tar1[['AMT_GOODS_PRICE', 'AMT_INCOME_TOTAL','AMT_ANNUITY','DAYS_EMPLOYED',\n",
        "  'DAYS_BIRTH', 'DAYS_REGISTRATION', 'DAYS_ID_PUBLISH',\n",
        "  'AMT_CREDIT']].corr(method=\"pearson\")\n",
        "corr = corr.where(np.triu(np.ones(corr.shape), k=1).astype(np.bool))\n",
        "corr_df = corr.unstack().reset_index()"
      ]
    },
    {
      "cell_type": "code",
      "execution_count": null,
      "metadata": {
        "id": "dOD-u_G-NEJ8"
      },
      "outputs": [],
      "source": [
        "corr_df.columns = ['VAR1','VAR2','CORRELATION']\n",
        "corr_df.dropna(subset = ['CORRELATION'],inplace = True)\n",
        "corr_df['CORR_ABS'] = corr_df['CORRELATION'].abs()\n"
      ]
    },
    {
      "cell_type": "code",
      "execution_count": null,
      "metadata": {
        "id": "WNcbddb8NEJ8"
      },
      "outputs": [],
      "source": [
        "corr_df.sort_values('CORR_ABS', ascending = False).head(10)"
      ]
    },
    {
      "cell_type": "markdown",
      "metadata": {
        "id": "C5ObNTjBNEJ8"
      },
      "source": [
        "#### Top 10 correlation for clients with payment difficulties are displayed."
      ]
    },
    {
      "cell_type": "markdown",
      "metadata": {
        "id": "jyTlxYWkNEJ9"
      },
      "source": [
        "### 4. Previous Application Data Analysis"
      ]
    },
    {
      "cell_type": "code",
      "execution_count": null,
      "metadata": {
        "id": "N4kDtYncNEJ9"
      },
      "outputs": [],
      "source": [
        "#read previous_application.csv\n",
        "dataP = pd.read_csv(\"previous_application.csv\")\n",
        "dataP.head()"
      ]
    },
    {
      "cell_type": "markdown",
      "metadata": {
        "id": "fzrvDOBjNEJ9"
      },
      "source": [
        "### 4.1 Inspecting the dataframe"
      ]
    },
    {
      "cell_type": "markdown",
      "metadata": {
        "id": "dNJ2l45YNEJ9"
      },
      "source": [
        "Inspecting the dataframe to analyze the shape, info and describe"
      ]
    },
    {
      "cell_type": "code",
      "execution_count": null,
      "metadata": {
        "id": "ynBh3lwONEJ9"
      },
      "outputs": [],
      "source": [
        "dataP.shape"
      ]
    },
    {
      "cell_type": "code",
      "execution_count": null,
      "metadata": {
        "id": "_tUDTf3CNEJ9"
      },
      "outputs": [],
      "source": [
        "dataP.info()"
      ]
    },
    {
      "cell_type": "code",
      "execution_count": null,
      "metadata": {
        "id": "hcHVEEwbNEJ9"
      },
      "outputs": [],
      "source": [
        "dataP.describe()"
      ]
    },
    {
      "cell_type": "markdown",
      "metadata": {
        "id": "KNVjyttINEJ9"
      },
      "source": [
        "#### Data Cleaning"
      ]
    },
    {
      "cell_type": "code",
      "execution_count": null,
      "metadata": {
        "id": "4i3BWFmzNEJ9"
      },
      "outputs": [],
      "source": [
        "# Changing column's value with name starting with DAYS from negative to positive\n",
        "filter_col = [col for col in dataP if col.startswith('DAYS')]\n",
        "dataP[filter_col] = abs(dataP[filter_col])"
      ]
    },
    {
      "cell_type": "code",
      "execution_count": null,
      "metadata": {
        "id": "MfDiYLVzNEJ-"
      },
      "outputs": [],
      "source": [
        "dataP.head()"
      ]
    },
    {
      "cell_type": "code",
      "execution_count": null,
      "metadata": {
        "id": "h6Rq2CUCNEJ-"
      },
      "outputs": [],
      "source": [
        "# XAP and XNA are replaced by NaN\n",
        "dataP = dataP.replace(\"XNA\", np.NaN)\n",
        "dataP = dataP.replace(\"XAP\", np.NaN)"
      ]
    },
    {
      "cell_type": "code",
      "execution_count": null,
      "metadata": {
        "id": "lryiq1YvNEJ-"
      },
      "outputs": [],
      "source": [
        "# Contract status value in previous application\n",
        "dataP['NAME_CONTRACT_STATUS'].value_counts()"
      ]
    },
    {
      "cell_type": "markdown",
      "metadata": {
        "id": "Tl6enBZSNEJ-"
      },
      "source": [
        "# 4.2 Univariate Analysis in previous application"
      ]
    },
    {
      "cell_type": "markdown",
      "metadata": {
        "id": "PaMsvZ1NNEJ-"
      },
      "source": [
        "#### 4.2.1 Contract status"
      ]
    },
    {
      "cell_type": "code",
      "execution_count": null,
      "metadata": {
        "id": "asjYPxzHNEJ-"
      },
      "outputs": [],
      "source": [
        "# Contract status in previous application\n",
        "con = dataP[\"NAME_CONTRACT_STATUS\"].value_counts()\n",
        "df = pd.DataFrame({'labels': con, \"values\": con.values})\n",
        "df.iplot(kind = \"pie\", labels = \"labels\", values=\"values\", title = \"Contract status in previous application \", colors =[ \"#75efff\", '#7e7e7e','#75e757', '#ea7c96'])"
      ]
    },
    {
      "cell_type": "markdown",
      "metadata": {
        "id": "zjakAwmdNEJ-"
      },
      "source": [
        "Majority of the loans are approved and less percent are unused."
      ]
    },
    {
      "cell_type": "markdown",
      "metadata": {
        "id": "TMxl_dgdNEJ-"
      },
      "source": [
        "#### 4.2.2 Days of the Week"
      ]
    },
    {
      "cell_type": "code",
      "execution_count": null,
      "metadata": {
        "id": "wtQJN11XNEJ-"
      },
      "outputs": [],
      "source": [
        "# Day, when the client applied for the loan and their count\n",
        "day = dataP[\"WEEKDAY_APPR_PROCESS_START\"].value_counts()\n",
        "day.iplot(kind = \"bar\", xTitle = \"Week day\", yTitle =\"count\", title=\"Client applied on day\", color = [\"#75e757\"])"
      ]
    },
    {
      "cell_type": "markdown",
      "metadata": {
        "id": "no3BFwQWNEJ-"
      },
      "source": [
        " - Most of the applicants apply in weekdays when compared to weekend"
      ]
    },
    {
      "cell_type": "markdown",
      "metadata": {
        "id": "Xx1a53YlNEJ_"
      },
      "source": [
        "#### 4.2.3 Payment Method"
      ]
    },
    {
      "cell_type": "code",
      "execution_count": null,
      "metadata": {
        "scrolled": true,
        "id": "fnUeD_7DNEJ_"
      },
      "outputs": [],
      "source": [
        "# Client choose to make payment in previous application\n",
        "payt = dataP[\"NAME_PAYMENT_TYPE\"].value_counts()\n",
        "df = pd.DataFrame({\"labels\": payt.index, \"values\":payt.values })\n",
        "df.iplot(kind = \"pie\", labels = \"labels\", values = \"values\", title = \"Client's payment method in previous application\", colors = [ \"#75efff\", '#7e7e7e','#75e757'])"
      ]
    },
    {
      "cell_type": "markdown",
      "metadata": {
        "id": "8NwPJJaiNEJ_"
      },
      "source": [
        " - 99% client pay through cash to the bank"
      ]
    },
    {
      "cell_type": "markdown",
      "metadata": {
        "id": "V-Ow_fRkNEJ_"
      },
      "source": [
        "#### 4.2.4 Reason for rejection"
      ]
    },
    {
      "cell_type": "code",
      "execution_count": null,
      "metadata": {
        "id": "UPLlHMgGNEJ_"
      },
      "outputs": [],
      "source": [
        "#Reason for rejection\n",
        "rej = dataP[\"CODE_REJECT_REASON\"].value_counts()\n",
        "rej.iplot(kind = \"bar\", xTitle= \"Reason\", yTitle=\"Count\", title = \"Reason for rejection\", colors =['#ea7c96'])"
      ]
    },
    {
      "cell_type": "markdown",
      "metadata": {
        "id": "As0cLg5YNEJ_"
      },
      "source": [
        " - HC is the reason for majority of rejection."
      ]
    },
    {
      "cell_type": "markdown",
      "metadata": {
        "id": "Ho6f_EwfNEJ_"
      },
      "source": [
        "#### 4.2.5 Old or New Client"
      ]
    },
    {
      "cell_type": "code",
      "execution_count": null,
      "metadata": {
        "id": "R_okY2hKNEJ_"
      },
      "outputs": [],
      "source": [
        "# while applying whether the client was old or new\n",
        "cli = dataP[\"NAME_CLIENT_TYPE\"].value_counts()\n",
        "df = pd.DataFrame({\"labels\": cli.index, \"values\":cli.values })\n",
        "df.iplot(kind = \"pie\", labels = \"labels\", values = \"values\", title = \"whether the client was old or new\", colors = [ \"#75efff\", '#7e7e7e','#75e757'])"
      ]
    },
    {
      "cell_type": "markdown",
      "metadata": {
        "id": "8gkeKX5-NEJ_"
      },
      "source": [
        " - Most of the clients are repeaters."
      ]
    },
    {
      "cell_type": "markdown",
      "metadata": {
        "id": "b0G0iW5YNEJ_"
      },
      "source": [
        "#### 4.2.6 Type of goods"
      ]
    },
    {
      "cell_type": "code",
      "execution_count": null,
      "metadata": {
        "id": "aUlNkGTPNEKA"
      },
      "outputs": [],
      "source": [
        "# Kinds of goods the client apply for\n",
        "go = dataP[\"NAME_GOODS_CATEGORY\"].value_counts()\n",
        "go.iplot(kind = \"bar\", xTitle= \"Type of goods\", yTitle=\"Count\", title = \"Kinds of goods the client apply for\", colors =['#fe2345'])"
      ]
    },
    {
      "cell_type": "markdown",
      "metadata": {
        "id": "Pr8KbQqtNEKA"
      },
      "source": [
        " - Kinds of goods the client apply for are mobiles, consumer electronics, computers and Audio/Video."
      ]
    },
    {
      "cell_type": "markdown",
      "metadata": {
        "id": "rt36Kft-NEKB"
      },
      "source": [
        "# 4.3 Univariate analysis numeric columns"
      ]
    },
    {
      "cell_type": "code",
      "execution_count": null,
      "metadata": {
        "id": "ltYXk-98NEKB"
      },
      "outputs": [],
      "source": [
        "unipl(df = dataP, colm =\"AMT_ANNUITY\")"
      ]
    },
    {
      "cell_type": "markdown",
      "metadata": {
        "id": "g42RyD14NEKB"
      },
      "source": [
        " - There are some outliers and curve is not normal"
      ]
    },
    {
      "cell_type": "code",
      "execution_count": null,
      "metadata": {
        "id": "fFxpguMoNEKB"
      },
      "outputs": [],
      "source": [
        "unipl(df = dataP, colm = 'AMT_CREDIT')"
      ]
    },
    {
      "cell_type": "markdown",
      "metadata": {
        "id": "KCN1niVINEKB"
      },
      "source": [
        " - There are some outliers and curve is not normal"
      ]
    },
    {
      "cell_type": "markdown",
      "metadata": {
        "id": "v4VsEcDKNEKB"
      },
      "source": [
        "# 5 Bivariate analysis after combining previous application and application data"
      ]
    },
    {
      "cell_type": "code",
      "execution_count": null,
      "metadata": {
        "id": "8gb-UhAbNEKB"
      },
      "outputs": [],
      "source": [
        "# SK_ID_CURR and TARGET from application data for further analysis\n",
        "dataF_new = dataF[['SK_ID_CURR','TARGET']]"
      ]
    },
    {
      "cell_type": "code",
      "execution_count": null,
      "metadata": {
        "id": "Ay6TD7XWNEKB"
      },
      "outputs": [],
      "source": [
        "#checking the data\n",
        "dataF_new"
      ]
    },
    {
      "cell_type": "code",
      "execution_count": null,
      "metadata": {
        "id": "aB351S4ZNEKC"
      },
      "outputs": [],
      "source": [
        "# Merging application and previous appplication based on 'SK_ID_CURR'\n",
        "dataF_merge = dataF_new.merge(dataP, on= \"SK_ID_CURR\", how = \"inner\")\n",
        "dataF_merge.shape"
      ]
    },
    {
      "cell_type": "code",
      "execution_count": null,
      "metadata": {
        "id": "1olbAR-SNEKC"
      },
      "outputs": [],
      "source": [
        "# Function for biplots analysis\n",
        "from plotly.subplots import make_subplots\n",
        "import plotly.graph_objects as go\n",
        "def biplot(df,feature,title):\n",
        "    temp = df[feature].value_counts()\n",
        "\n",
        "    # Calculate the percentage of target=1 per category value\n",
        "    perc = df[[feature, 'TARGET']].groupby([feature],as_index=False).mean()\n",
        "    perc.sort_values(by='TARGET', ascending=False, inplace=True)\n",
        "\n",
        "    fig = make_subplots(rows=1, cols=2,subplot_titles=(\"Count of \"+ title,\"% of Loan Payment difficulties within each category\"))\n",
        "\n",
        "\n",
        "    fig.add_trace(go.Bar(x=temp.index, y=temp.values),row=1, col=1)\n",
        "    fig.add_trace(go.Bar(x=perc[feature].to_list(), y=perc['TARGET'].to_list()),row=1, col=2)\n",
        "    fig['layout']['xaxis']['title']=feature\n",
        "    fig['layout']['xaxis2']['title']=feature\n",
        "    fig['layout']['yaxis']['title']='Count'\n",
        "    fig['layout']['yaxis2']['title']='% of Loan Payment Difficulties'\n",
        "    fig.update_layout(height=600, width=1000, title_text=title, showlegend=False)\n",
        "    fig.show()"
      ]
    },
    {
      "cell_type": "code",
      "execution_count": null,
      "metadata": {
        "id": "aJAD8qaiNEKC"
      },
      "outputs": [],
      "source": [
        "# Contract status and its category distribution with maximum % of loan payment Difficulties.\n",
        "biplot(dataF_merge, 'NAME_CONTRACT_STATUS', 'CONTRACT STATUS')\n"
      ]
    },
    {
      "cell_type": "markdown",
      "metadata": {
        "id": "EFr5b0y6NEKC"
      },
      "source": [
        "From first plot most contracts from previous application has been approved"
      ]
    },
    {
      "cell_type": "markdown",
      "metadata": {
        "id": "wO-AquTiNEKC"
      },
      "source": [
        "From second plot\n",
        "- 'Refused' are one with maximum % of loan payment Difficulties from current application.\n",
        "- 'Approved' are one with minimum % of loan payment Difficulties from current application."
      ]
    },
    {
      "cell_type": "code",
      "execution_count": null,
      "metadata": {
        "id": "Fny6hs2BNEKC"
      },
      "outputs": [],
      "source": [
        "# Contract type and its category distribution with maximum % of loan payment Difficulties.\n",
        "biplot(dataF_merge, 'NAME_CONTRACT_TYPE', 'CONTRACT_TYPE')"
      ]
    },
    {
      "cell_type": "markdown",
      "metadata": {
        "id": "FsbNWU5bNEKC"
      },
      "source": [
        "From first plot it can be seen most contract type were of \"cash loan\" from previous application"
      ]
    },
    {
      "cell_type": "markdown",
      "metadata": {
        "id": "Sin2nMQPNEKC"
      },
      "source": [
        "From second plot\n",
        "- 'Revolving Loans' are one with maximum % of loan payment Difficulties from current application.\n",
        "- 'Consumer Loans' are one with minimum % of loan payment Difficulties from current application."
      ]
    },
    {
      "cell_type": "code",
      "execution_count": null,
      "metadata": {
        "id": "bmoar5lNNEKC"
      },
      "outputs": [],
      "source": [
        "#Payment Type and its category distribution maximum % of loan payment Difficulties.\n",
        "biplot(dataF_merge,'NAME_PAYMENT_TYPE', 'PAYMENT TYPE')"
      ]
    },
    {
      "cell_type": "markdown",
      "metadata": {
        "id": "9G1aVQahNEKD"
      },
      "source": [
        " - First graph shows most of the payment type were \"cash through bank\".\n",
        "\n",
        " - Second graph shows all the 3 types of payment have almost same % of loan payment Difficulties from current application."
      ]
    },
    {
      "cell_type": "code",
      "execution_count": null,
      "metadata": {
        "id": "wKvcuPICNEKD"
      },
      "outputs": [],
      "source": [
        "# Client type and its category distribution with  maximum % of loan payment Difficulties.\n",
        "biplot(dataF_merge, 'NAME_CLIENT_TYPE', 'CLIENT TYPE')"
      ]
    },
    {
      "cell_type": "markdown",
      "metadata": {
        "id": "tOICcjEsNEKD"
      },
      "source": [
        "First graph shows most of the clients are \"Repeater\"\n",
        "\n",
        "Second graph shows\n",
        "- \"New\" clients have maximum % of loan payment Difficulties from cureent application\n",
        "- \"Refreshed\" clients have minimum % of loan payment Difficulties from cureent application\n"
      ]
    },
    {
      "cell_type": "code",
      "execution_count": null,
      "metadata": {
        "id": "Q14ahnHINEKD"
      },
      "outputs": [],
      "source": [
        "# Cash loan purpose and its category with maximum % of loan difficulties.\n",
        "biplot(dataF_merge, 'NAME_CASH_LOAN_PURPOSE', 'CASH LOAN PURPOSE')"
      ]
    },
    {
      "cell_type": "markdown",
      "metadata": {
        "id": "6GoKLKiwNEKD"
      },
      "source": [
        "Purpose of cashloan from previous data were mostly for \"Repairs\"\n",
        "\n",
        "From second graph\n",
        "- For cash loan \"Refusal to name goal\" have maximum % of loan payment Difficulties from cureent application\n"
      ]
    },
    {
      "cell_type": "code",
      "execution_count": null,
      "metadata": {
        "id": "oO8F2S7MNEKD"
      },
      "outputs": [],
      "source": [
        "#creating pivot table for analysis\n",
        "table = pd.pivot_table(dataF_merge, values = \"TARGET\", index = ['NAME_CLIENT_TYPE'], columns = ['NAME_CONTRACT_STATUS'], aggfunc = np.mean)"
      ]
    },
    {
      "cell_type": "code",
      "execution_count": null,
      "metadata": {
        "id": "7UVckbrzNEKD"
      },
      "outputs": [],
      "source": [
        "#Checking the table\n",
        "table"
      ]
    },
    {
      "cell_type": "code",
      "execution_count": null,
      "metadata": {
        "id": "hjnbr5HPNEKD"
      },
      "outputs": [],
      "source": [
        "apx = table.T.plot(kind = 'bar')\n",
        "ylab = apx.set_ylabel(\"% of loan payment Difficulties \")\n",
        "plt.title(\"% of loan payment Difficulties  for NAME_CONTRACT_STATUS and NAME_CLIENT_TYPE \", fontdict = {'fontsize':20})\n",
        "plt.show()\n"
      ]
    },
    {
      "cell_type": "markdown",
      "metadata": {
        "id": "XeQS44GrNEKD"
      },
      "source": [
        " - Client who are \"New\" and have \"Cancelled\" previous application have more % of loan payment Difficulties in current application"
      ]
    },
    {
      "cell_type": "code",
      "execution_count": null,
      "metadata": {
        "id": "rVlTMfW7NEKD"
      },
      "outputs": [],
      "source": [
        "#creating pivot table for another analysis\n",
        "table = pd.pivot_table(dataF_merge, values = \"TARGET\", index = ['NAME_CONTRACT_TYPE'], columns = ['NAME_CONTRACT_STATUS'], aggfunc = np.mean)"
      ]
    },
    {
      "cell_type": "code",
      "execution_count": null,
      "metadata": {
        "id": "JCXrwAOuNEKD"
      },
      "outputs": [],
      "source": [
        "#checking the table\n",
        "table"
      ]
    },
    {
      "cell_type": "code",
      "execution_count": null,
      "metadata": {
        "id": "A2t3es5jNEKD"
      },
      "outputs": [],
      "source": [
        "apx = table.T.plot(kind = 'bar')\n",
        "ylab = apx.set_ylabel(\"% of loan payment Difficulties \")\n",
        "plt.title(\"% of loan payment Difficulties  for NAME_CONTRACT_STATUS and NAME_CONTRACT_TYPE \", fontdict = {'fontsize':20})\n",
        "plt.show()\n"
      ]
    },
    {
      "cell_type": "markdown",
      "metadata": {
        "id": "OhsMLkqtNEKE"
      },
      "source": [
        " - Clients with 'Revolving loans' and \"Refused\" previous application tend to have more % of Loan Payment difficulties in current application."
      ]
    },
    {
      "cell_type": "markdown",
      "metadata": {
        "id": "HeyznZuINEKE"
      },
      "source": [
        "# 5. Conclusion (Insights what we got after analysis)"
      ]
    },
    {
      "cell_type": "markdown",
      "metadata": {
        "id": "J6G-r88CNEKE"
      },
      "source": [
        "#### 5.1 Insights we got on Application data"
      ]
    },
    {
      "cell_type": "markdown",
      "metadata": {
        "id": "7e4rpwQnNEKE"
      },
      "source": [
        "- Loan defaulters were\n",
        "       - \"Maternity leave\" clients  in  ‘NAME_INCOME_TYPE’\n",
        "       -  \"Low skilled Laborers\" clients in ‘OCCUPATION_TYPE’\n",
        "       - \"Lower Secondary \" clients in ‘NAME_EDUCATION_TYPE’\n",
        "Because their count is comparatively less and also have maximum % of loan payment Difficulties\n"
      ]
    },
    {
      "cell_type": "markdown",
      "metadata": {
        "id": "FtR9Y6X7NEKE"
      },
      "source": [
        "#### 5.2 Insights we got on Previous Application data"
      ]
    },
    {
      "cell_type": "markdown",
      "metadata": {
        "id": "2pR8pAUFNEKE"
      },
      "source": [
        "- Loan defaulters were from the counts which are comparatively less in\n",
        "    - \"Refusal \" from \"NAME_CASH_LOAN_PURPOSE\"\n",
        "    - \"Refused \" from  ‘NAME_CONTRACT_STATUS’   \n",
        "    - \"Revolving Loans\" from ‘NAME_CONTRACT_TYPE\"\n",
        "and they have maximum % of loan payment difficulties around 23%, 12% and 10% repectively.\n"
      ]
    },
    {
      "cell_type": "markdown",
      "metadata": {
        "id": "KkogBa8bNEKE"
      },
      "source": [
        "- Clients with \"Revolving Loans\" with \"Refused\" previous application tend to have more %  of payment difficulties in current application. As their counts are comparatively less they were driving factors for Loan Defaulters."
      ]
    },
    {
      "cell_type": "markdown",
      "metadata": {
        "id": "cxRQzA5xNEKE"
      },
      "source": [
        "# Thank you !"
      ]
    },
    {
      "cell_type": "code",
      "execution_count": null,
      "metadata": {
        "id": "w1gQ-Xg6NEKE"
      },
      "outputs": [],
      "source": []
    }
  ],
  "metadata": {
    "kernelspec": {
      "display_name": "Python 3",
      "language": "python",
      "name": "python3"
    },
    "language_info": {
      "codemirror_mode": {
        "name": "ipython",
        "version": 3
      },
      "file_extension": ".py",
      "mimetype": "text/x-python",
      "name": "python",
      "nbconvert_exporter": "python",
      "pygments_lexer": "ipython3",
      "version": "3.8.5"
    },
    "colab": {
      "provenance": []
    }
  },
  "nbformat": 4,
  "nbformat_minor": 0
}